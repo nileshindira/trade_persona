{
 "cells": [
  {
   "cell_type": "code",
   "id": "initial_id",
   "metadata": {
    "collapsed": true,
    "ExecuteTime": {
     "end_time": "2025-10-13T05:32:46.668270Z",
     "start_time": "2025-10-13T05:32:44.196920Z"
    }
   },
   "source": [
    "import pandas as pd\n",
    "!pip install openpyxl\n",
    "!pip install pandas\n",
    "!pip install xlrd"
   ],
   "outputs": [
    {
     "name": "stdout",
     "output_type": "stream",
     "text": [
      "Collecting openpyxl\r\n",
      "  Downloading openpyxl-3.1.5-py2.py3-none-any.whl.metadata (2.5 kB)\r\n",
      "Collecting et-xmlfile (from openpyxl)\r\n",
      "  Downloading et_xmlfile-2.0.0-py3-none-any.whl.metadata (2.7 kB)\r\n",
      "Downloading openpyxl-3.1.5-py2.py3-none-any.whl (250 kB)\r\n",
      "Downloading et_xmlfile-2.0.0-py3-none-any.whl (18 kB)\r\n",
      "Installing collected packages: et-xmlfile, openpyxl\r\n",
      "Successfully installed et-xmlfile-2.0.0 openpyxl-3.1.5\r\n",
      "\r\n",
      "\u001B[1m[\u001B[0m\u001B[34;49mnotice\u001B[0m\u001B[1;39;49m]\u001B[0m\u001B[39;49m A new release of pip is available: \u001B[0m\u001B[31;49m24.3.1\u001B[0m\u001B[39;49m -> \u001B[0m\u001B[32;49m25.2\u001B[0m\r\n",
      "\u001B[1m[\u001B[0m\u001B[34;49mnotice\u001B[0m\u001B[1;39;49m]\u001B[0m\u001B[39;49m To update, run: \u001B[0m\u001B[32;49mpip install --upgrade pip\u001B[0m\r\n"
     ]
    }
   ],
   "execution_count": 1
  },
  {
   "metadata": {
    "ExecuteTime": {
     "end_time": "2025-10-13T06:26:59.130497Z",
     "start_time": "2025-10-13T06:26:58.853197Z"
    }
   },
   "cell_type": "code",
   "source": [
    "import pandas as pd\n",
    "\n",
    "file_path = \"/home/system-4/Downloads/Niles/updated_trade_file/Dewang.csv\"\n",
    "\n",
    "# Skip the first 3 rows and use the next one as header\n",
    "data = pd.read_csv(file_path,skiprows=3)\n",
    "\n",
    "print(data.head())\n"
   ],
   "id": "5284c3effbd4a951",
   "outputs": [
    {
     "name": "stdout",
     "output_type": "stream",
     "text": [
      "  COMPANY CODE CLIENT ID                  SCRIP SYMBOL  TRADE NUMBER  \\\n",
      "0      NSE_FNO    SPRO99  IO CE SENSEX 01Apr2025 76100      30904050   \n",
      "1      NSE_FNO    SPRO99  IO CE SENSEX 01Apr2025 76100      26514170   \n",
      "2      NSE_FNO    SPRO99  IO CE SENSEX 01Apr2025 76400       9140340   \n",
      "3      NSE_FNO    SPRO99  IO CE SENSEX 01Apr2025 76500      15240660   \n",
      "4      NSE_FNO    SPRO99  IO CE SENSEX 01Apr2025 77400       6217070   \n",
      "\n",
      "       EXPIRY DATE       TRADE DATE  SETTLEMENT NO BUY SALE  Qty    Rate  \\\n",
      "0  01-04-2025 0:00  01-04-2025 0:00       20250401     SALE  140   80.65   \n",
      "1  01-04-2025 0:00  01-04-2025 0:00       20250401      BUY   80   88.40   \n",
      "2  01-04-2025 0:00  01-04-2025 0:00       20250401      BUY  100  138.05   \n",
      "3  01-04-2025 0:00  01-04-2025 0:00       20250401      BUY  100  294.30   \n",
      "4  01-04-2025 0:00  01-04-2025 0:00       20250401     SALE   40  255.75   \n",
      "\n",
      "          ORDER NUMBER    ORDER DATETIME  TRADE BROKERAGE  DELIVERY BROKERAGE  \\\n",
      "0  1743495130815337954  01-04-2025 13:44                0                   0   \n",
      "1  1743493601117807595  01-04-2025 13:23                0                   0   \n",
      "2  1743485005031686984  01-04-2025 10:57                0                   0   \n",
      "3  1743484374729858460  01-04-2025 10:46                0                   0   \n",
      "4  1743480537745687240   01-04-2025 9:41                0                   0   \n",
      "\n",
      "   Net Amount USER ID    TRADE DATETIME  BROKERAGE RATE  \n",
      "0     11291.0  DMA024  01-04-2025 13:46               0  \n",
      "1      7072.0  DMA024  01-04-2025 13:23               0  \n",
      "2     13805.0  DMA024  01-04-2025 10:57               0  \n",
      "3     29430.0  DMA024  01-04-2025 10:46               0  \n",
      "4     10230.0  DMA024   01-04-2025 9:41               0  \n"
     ]
    }
   ],
   "execution_count": 2
  },
  {
   "metadata": {
    "ExecuteTime": {
     "end_time": "2025-10-13T06:30:11.076106Z",
     "start_time": "2025-10-13T06:30:11.064679Z"
    }
   },
   "cell_type": "code",
   "source": [
    "print(data.columns)\n",
    "\n",
    "import numpy as np\n",
    "data['Trade Date'] = pd.to_datetime(data['ORDER DATETIME'], format='%d-%m-%Y %H:%M', errors='coerce' )\n",
    "data['charges']=0\n"
   ],
   "id": "7f4de7117971d9dc",
   "outputs": [
    {
     "name": "stdout",
     "output_type": "stream",
     "text": [
      "Index(['COMPANY CODE', 'CLIENT ID', 'SCRIP SYMBOL', 'TRADE NUMBER',\n",
      "       'EXPIRY DATE', 'TRADE DATE', 'SETTLEMENT NO', 'BUY SALE', 'Qty', 'Rate',\n",
      "       'ORDER NUMBER', 'ORDER DATETIME', 'TRADE BROKERAGE',\n",
      "       'DELIVERY BROKERAGE', 'Net Amount', 'USER ID', 'TRADE DATETIME',\n",
      "       'BROKERAGE RATE', 'Trade Date'],\n",
      "      dtype='object')\n"
     ]
    }
   ],
   "execution_count": 6
  },
  {
   "metadata": {
    "ExecuteTime": {
     "end_time": "2025-10-13T06:30:17.512081Z",
     "start_time": "2025-10-13T06:30:17.506594Z"
    }
   },
   "cell_type": "code",
   "source": [
    "data1 = data [['Trade Date','SCRIP SYMBOL','BUY SALE','Qty', 'Rate','Net Amount','charges']]\n",
    "\n",
    "col = pd.read_csv(\"data/sample_trades.csv\")\n",
    "print(col.columns)"
   ],
   "id": "64f6edeea3e125b3",
   "outputs": [
    {
     "name": "stdout",
     "output_type": "stream",
     "text": [
      "Index(['trade_date', 'symbol', 'transaction_type', 'quantity', 'price',\n",
      "       'trade_value', 'charges'],\n",
      "      dtype='object')\n"
     ]
    }
   ],
   "execution_count": 7
  },
  {
   "metadata": {
    "ExecuteTime": {
     "end_time": "2025-10-13T06:30:38.148195Z",
     "start_time": "2025-10-13T06:30:38.102585Z"
    }
   },
   "cell_type": "code",
   "source": [
    "data1.columns = col.columns\n",
    "\n",
    "data1.to_csv(\"Dewang.csv\",index=False)"
   ],
   "id": "68be22a815697849",
   "outputs": [],
   "execution_count": 8
  },
  {
   "metadata": {
    "ExecuteTime": {
     "end_time": "2025-10-13T06:10:40.511897Z",
     "start_time": "2025-10-13T06:10:40.143702Z"
    }
   },
   "cell_type": "code",
   "source": "df = pd.read_csv(\"fiv99.csv\")",
   "id": "b1314003df0f9c0a",
   "outputs": [],
   "execution_count": 27
  },
  {
   "metadata": {
    "ExecuteTime": {
     "end_time": "2025-10-13T06:10:47.035653Z",
     "start_time": "2025-10-13T06:10:47.029705Z"
    }
   },
   "cell_type": "code",
   "source": "df.dtypes",
   "id": "3b6660b3128fb450",
   "outputs": [
    {
     "data": {
      "text/plain": [
       "trade_date           object\n",
       "symbol               object\n",
       "transaction_type     object\n",
       "quantity              int64\n",
       "price               float64\n",
       "trade_value         float64\n",
       "charges             float64\n",
       "dtype: object"
      ]
     },
     "execution_count": 28,
     "metadata": {},
     "output_type": "execute_result"
    }
   ],
   "execution_count": 28
  },
  {
   "metadata": {
    "ExecuteTime": {
     "end_time": "2025-10-16T06:58:47.223251Z",
     "start_time": "2025-10-16T06:58:46.928122Z"
    }
   },
   "cell_type": "code",
   "source": [
    "import pandas as pd\n",
    "print(pd.read_csv(\"TRADE_FILES/ANISH_NEW.csv\").head(5))"
   ],
   "id": "dadc96d57c5f71b7",
   "outputs": [
    {
     "name": "stdout",
     "output_type": "stream",
     "text": [
      "   trade_date                          symbol transaction_type  quantity  \\\n",
      "0         NaN      EO CE DMART 31Jul2025 4500              BUY       150   \n",
      "1         NaN      EO CE DMART 31Jul2025 4900             SALE       150   \n",
      "2         NaN      EO CE DMART 31Jul2025 5000              BUY       300   \n",
      "3         NaN  EO CE EICHERMOT 30Sep2025 7400             SALE       175   \n",
      "4         NaN  EO CE EICHERMOT 30Sep2025 7600              BUY       175   \n",
      "\n",
      "   price  trade_value  charges  \n",
      "0   0.05          7.5        0  \n",
      "1  19.05       2857.5        0  \n",
      "2   0.30         90.0        0  \n",
      "3  18.30       3202.5        0  \n",
      "4   7.50       1312.5        0  \n"
     ]
    }
   ],
   "execution_count": 2
  },
  {
   "metadata": {},
   "cell_type": "code",
   "outputs": [],
   "execution_count": null,
   "source": "",
   "id": "cbc2dcbaa2c57541"
  }
 ],
 "metadata": {
  "kernelspec": {
   "display_name": "Python 3",
   "language": "python",
   "name": "python3"
  },
  "language_info": {
   "codemirror_mode": {
    "name": "ipython",
    "version": 2
   },
   "file_extension": ".py",
   "mimetype": "text/x-python",
   "name": "python",
   "nbconvert_exporter": "python",
   "pygments_lexer": "ipython2",
   "version": "2.7.6"
  }
 },
 "nbformat": 4,
 "nbformat_minor": 5
}
